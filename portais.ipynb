{
 "cells": [
  {
   "cell_type": "code",
   "execution_count": 38,
   "metadata": {},
   "outputs": [
    {
     "name": "stdout",
     "output_type": "stream",
     "text": [
      "50 coordenadas aleatórias foram geradas e salvas em 'random_coordinates.csv'.\n"
     ]
    }
   ],
   "source": [
    "import random\n",
    "import pandas as pd\n",
    "\n",
    "def generate_random_coordinates(num_points, min_lat, max_lat, min_lon, max_lon):\n",
    "    \"\"\"Gera uma quantidade específica de coordenadas aleatórias dentro dos limites fornecidos.\"\"\"\n",
    "    coordinates = []\n",
    "    for _ in range(num_points):\n",
    "        lon = random.uniform(min_lat, max_lat)\n",
    "        lat = random.uniform(min_lon, max_lon)\n",
    "        coordinates.append((lat, lon))\n",
    "    return coordinates\n",
    "\n",
    "def save_coordinates_to_csv(coordinates, filename):\n",
    "    \"\"\"Salva as coordenadas em um arquivo CSV.\"\"\"\n",
    "    df = pd.DataFrame(coordinates, columns=['y', 'x'])\n",
    "    df.to_csv(filename, index=False)\n",
    "\n",
    "if __name__ == \"__main__\":\n",
    "    # Defina os limites para as coordenadas\n",
    "    min_lat, max_lat = 54.57552, 71.39066  # Limites de latitude para os EUA\n",
    "    min_lon, max_lon = -130.09859, -168.12783     # Limites de longitude para os EUA\n",
    "\n",
    "    # Defina a quantidade de coordenadas a serem geradas\n",
    "    num_points = 50\n",
    "\n",
    "    # Gere as coordenadas aleatórias\n",
    "    coordinates = generate_random_coordinates(num_points, min_lat, max_lat, min_lon, max_lon)\n",
    "\n",
    "    # Salve as coordenadas em um arquivo CSV\n",
    "    save_coordinates_to_csv(coordinates, 'alaska_portals.csv')\n",
    "\n",
    "    print(f\"{num_points} coordenadas aleatórias foram geradas e salvas em 'random_coordinates.csv'.\")"
   ]
  },
  {
   "cell_type": "code",
   "execution_count": 16,
   "metadata": {},
   "outputs": [],
   "source": [
    "    file_paths = ['data/csv/ALASKA_CSV.csv',\n",
    "                  'data/csv/BASE_CUBA_CSV.csv',\n",
    "                  'data/csv/EUA_PONTOS_CSV.csv',\n",
    "                  'data/csv/ILHA_OCEANO_CSV.csv']"
   ]
  },
  {
   "cell_type": "code",
   "execution_count": 17,
   "metadata": {},
   "outputs": [],
   "source": [
    "eua = pd.read_csv('data/csv/EUA_PONTOS_CSV.csv')\n",
    "alaska = pd.read_csv('data/csv/ALASKA_CSV.csv')\n",
    "cuba = pd.read_csv('data/csv/BASE_CUBA_CSV.csv')\n",
    "ilhas = pd.read_csv('data/csv/ILHA_OCEANO_CSV.csv')"
   ]
  },
  {
   "cell_type": "code",
   "execution_count": 37,
   "metadata": {},
   "outputs": [
    {
     "name": "stdout",
     "output_type": "stream",
     "text": [
      "-130.09859\n",
      "-168.12783\n",
      "71.39066\n",
      "54.57552\n"
     ]
    }
   ],
   "source": [
    "print(alaska['x'].max())\n",
    "print(alaska['x'].min())\n",
    "print(alaska['y'].max())\n",
    "print(alaska['y'].min())"
   ]
  },
  {
   "cell_type": "code",
   "execution_count": 12,
   "metadata": {},
   "outputs": [],
   "source": [
    "eua_portals = pd.read_csv('data/csv/eua_portals.csv')"
   ]
  },
  {
   "cell_type": "code",
   "execution_count": 13,
   "metadata": {},
   "outputs": [
    {
     "data": {
      "text/html": [
       "<div>\n",
       "<style scoped>\n",
       "    .dataframe tbody tr th:only-of-type {\n",
       "        vertical-align: middle;\n",
       "    }\n",
       "\n",
       "    .dataframe tbody tr th {\n",
       "        vertical-align: top;\n",
       "    }\n",
       "\n",
       "    .dataframe thead th {\n",
       "        text-align: right;\n",
       "    }\n",
       "</style>\n",
       "<table border=\"1\" class=\"dataframe\">\n",
       "  <thead>\n",
       "    <tr style=\"text-align: right;\">\n",
       "      <th></th>\n",
       "      <th>x</th>\n",
       "      <th>y</th>\n",
       "    </tr>\n",
       "  </thead>\n",
       "  <tbody>\n",
       "    <tr>\n",
       "      <th>0</th>\n",
       "      <td>35.386521</td>\n",
       "      <td>-76.129858</td>\n",
       "    </tr>\n",
       "    <tr>\n",
       "      <th>1</th>\n",
       "      <td>43.953979</td>\n",
       "      <td>-86.547916</td>\n",
       "    </tr>\n",
       "    <tr>\n",
       "      <th>2</th>\n",
       "      <td>26.126858</td>\n",
       "      <td>-114.076837</td>\n",
       "    </tr>\n",
       "    <tr>\n",
       "      <th>3</th>\n",
       "      <td>29.865678</td>\n",
       "      <td>-104.296332</td>\n",
       "    </tr>\n",
       "    <tr>\n",
       "      <th>4</th>\n",
       "      <td>37.621030</td>\n",
       "      <td>-84.579229</td>\n",
       "    </tr>\n",
       "    <tr>\n",
       "      <th>...</th>\n",
       "      <td>...</td>\n",
       "      <td>...</td>\n",
       "    </tr>\n",
       "    <tr>\n",
       "      <th>95</th>\n",
       "      <td>28.704014</td>\n",
       "      <td>-95.327147</td>\n",
       "    </tr>\n",
       "    <tr>\n",
       "      <th>96</th>\n",
       "      <td>25.938795</td>\n",
       "      <td>-94.546810</td>\n",
       "    </tr>\n",
       "    <tr>\n",
       "      <th>97</th>\n",
       "      <td>31.252929</td>\n",
       "      <td>-68.720356</td>\n",
       "    </tr>\n",
       "    <tr>\n",
       "      <th>98</th>\n",
       "      <td>31.134609</td>\n",
       "      <td>-111.900085</td>\n",
       "    </tr>\n",
       "    <tr>\n",
       "      <th>99</th>\n",
       "      <td>36.679349</td>\n",
       "      <td>-121.848737</td>\n",
       "    </tr>\n",
       "  </tbody>\n",
       "</table>\n",
       "<p>100 rows × 2 columns</p>\n",
       "</div>"
      ],
      "text/plain": [
       "            x           y\n",
       "0   35.386521  -76.129858\n",
       "1   43.953979  -86.547916\n",
       "2   26.126858 -114.076837\n",
       "3   29.865678 -104.296332\n",
       "4   37.621030  -84.579229\n",
       "..        ...         ...\n",
       "95  28.704014  -95.327147\n",
       "96  25.938795  -94.546810\n",
       "97  31.252929  -68.720356\n",
       "98  31.134609 -111.900085\n",
       "99  36.679349 -121.848737\n",
       "\n",
       "[100 rows x 2 columns]"
      ]
     },
     "execution_count": 13,
     "metadata": {},
     "output_type": "execute_result"
    }
   ],
   "source": [
    "eua_portals"
   ]
  }
 ],
 "metadata": {
  "kernelspec": {
   "display_name": "Python 3",
   "language": "python",
   "name": "python3"
  },
  "language_info": {
   "codemirror_mode": {
    "name": "ipython",
    "version": 3
   },
   "file_extension": ".py",
   "mimetype": "text/x-python",
   "name": "python",
   "nbconvert_exporter": "python",
   "pygments_lexer": "ipython3",
   "version": "3.10.11"
  }
 },
 "nbformat": 4,
 "nbformat_minor": 2
}
